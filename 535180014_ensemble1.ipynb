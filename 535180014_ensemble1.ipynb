{
  "nbformat": 4,
  "nbformat_minor": 0,
  "metadata": {
    "colab": {
      "name": "535180014_ensemble1.ipynb",
      "provenance": []
    },
    "kernelspec": {
      "name": "python3",
      "display_name": "Python 3"
    },
    "language_info": {
      "name": "python"
    }
  },
  "cells": [
    {
      "cell_type": "code",
      "metadata": {
        "id": "YhmFoffpmg6J"
      },
      "source": [
        "from sklearn.model_selection import cross_val_score\n",
        "from sklearn.datasets import make_blobs\n",
        "from sklearn.ensemble import RandomForestClassifier\n",
        "from sklearn.ensemble import ExtraTreesClassifier\n",
        "from sklearn.tree import DecisionTreeClassifier"
      ],
      "execution_count": 34,
      "outputs": []
    },
    {
      "cell_type": "code",
      "metadata": {
        "colab": {
          "base_uri": "https://localhost:8080/",
          "height": 223
        },
        "id": "XHqdG5WEpmul",
        "outputId": "fc1f62eb-bd8c-44ce-cb1b-5c30023cd0eb"
      },
      "source": [
        "import pandas as pd\n",
        "df = pd.read_csv(\"https://raw.githubusercontent.com/ClasherGeek77/ml-csv/main/diabetes.csv\", header=None)\n",
        "df = df.iloc[1:, :]\n",
        "col_names = ['Pregnancies', 'Glucose', 'BloodPressure', 'SkinThickness', 'Insulin', 'BMI', 'DiabetesPedigreeFunction', 'Age', 'Outcome']\n",
        "df.columns = col_names\n",
        "col_names\n",
        "df.head()"
      ],
      "execution_count": 35,
      "outputs": [
        {
          "output_type": "execute_result",
          "data": {
            "text/html": [
              "<div>\n",
              "<style scoped>\n",
              "    .dataframe tbody tr th:only-of-type {\n",
              "        vertical-align: middle;\n",
              "    }\n",
              "\n",
              "    .dataframe tbody tr th {\n",
              "        vertical-align: top;\n",
              "    }\n",
              "\n",
              "    .dataframe thead th {\n",
              "        text-align: right;\n",
              "    }\n",
              "</style>\n",
              "<table border=\"1\" class=\"dataframe\">\n",
              "  <thead>\n",
              "    <tr style=\"text-align: right;\">\n",
              "      <th></th>\n",
              "      <th>Pregnancies</th>\n",
              "      <th>Glucose</th>\n",
              "      <th>BloodPressure</th>\n",
              "      <th>SkinThickness</th>\n",
              "      <th>Insulin</th>\n",
              "      <th>BMI</th>\n",
              "      <th>DiabetesPedigreeFunction</th>\n",
              "      <th>Age</th>\n",
              "      <th>Outcome</th>\n",
              "    </tr>\n",
              "  </thead>\n",
              "  <tbody>\n",
              "    <tr>\n",
              "      <th>1</th>\n",
              "      <td>6</td>\n",
              "      <td>148</td>\n",
              "      <td>72</td>\n",
              "      <td>35</td>\n",
              "      <td>0</td>\n",
              "      <td>33.6</td>\n",
              "      <td>0.627</td>\n",
              "      <td>50</td>\n",
              "      <td>1</td>\n",
              "    </tr>\n",
              "    <tr>\n",
              "      <th>2</th>\n",
              "      <td>1</td>\n",
              "      <td>85</td>\n",
              "      <td>66</td>\n",
              "      <td>29</td>\n",
              "      <td>0</td>\n",
              "      <td>26.6</td>\n",
              "      <td>0.351</td>\n",
              "      <td>31</td>\n",
              "      <td>0</td>\n",
              "    </tr>\n",
              "    <tr>\n",
              "      <th>3</th>\n",
              "      <td>8</td>\n",
              "      <td>183</td>\n",
              "      <td>64</td>\n",
              "      <td>0</td>\n",
              "      <td>0</td>\n",
              "      <td>23.3</td>\n",
              "      <td>0.672</td>\n",
              "      <td>32</td>\n",
              "      <td>1</td>\n",
              "    </tr>\n",
              "    <tr>\n",
              "      <th>4</th>\n",
              "      <td>1</td>\n",
              "      <td>89</td>\n",
              "      <td>66</td>\n",
              "      <td>23</td>\n",
              "      <td>94</td>\n",
              "      <td>28.1</td>\n",
              "      <td>0.167</td>\n",
              "      <td>21</td>\n",
              "      <td>0</td>\n",
              "    </tr>\n",
              "    <tr>\n",
              "      <th>5</th>\n",
              "      <td>0</td>\n",
              "      <td>137</td>\n",
              "      <td>40</td>\n",
              "      <td>35</td>\n",
              "      <td>168</td>\n",
              "      <td>43.1</td>\n",
              "      <td>2.288</td>\n",
              "      <td>33</td>\n",
              "      <td>1</td>\n",
              "    </tr>\n",
              "  </tbody>\n",
              "</table>\n",
              "</div>"
            ],
            "text/plain": [
              "  Pregnancies Glucose BloodPressure  ... DiabetesPedigreeFunction Age Outcome\n",
              "1           6     148            72  ...                    0.627  50       1\n",
              "2           1      85            66  ...                    0.351  31       0\n",
              "3           8     183            64  ...                    0.672  32       1\n",
              "4           1      89            66  ...                    0.167  21       0\n",
              "5           0     137            40  ...                    2.288  33       1\n",
              "\n",
              "[5 rows x 9 columns]"
            ]
          },
          "metadata": {},
          "execution_count": 35
        }
      ]
    },
    {
      "cell_type": "code",
      "metadata": {
        "colab": {
          "base_uri": "https://localhost:8080/"
        },
        "id": "AvsdCN_xrRAM",
        "outputId": "11b55461-6c98-45dc-ff96-897520b2284e"
      },
      "source": [
        "df.info()"
      ],
      "execution_count": 36,
      "outputs": [
        {
          "output_type": "stream",
          "name": "stdout",
          "text": [
            "<class 'pandas.core.frame.DataFrame'>\n",
            "RangeIndex: 768 entries, 1 to 768\n",
            "Data columns (total 9 columns):\n",
            " #   Column                    Non-Null Count  Dtype \n",
            "---  ------                    --------------  ----- \n",
            " 0   Pregnancies               768 non-null    object\n",
            " 1   Glucose                   768 non-null    object\n",
            " 2   BloodPressure             768 non-null    object\n",
            " 3   SkinThickness             768 non-null    object\n",
            " 4   Insulin                   768 non-null    object\n",
            " 5   BMI                       768 non-null    object\n",
            " 6   DiabetesPedigreeFunction  768 non-null    object\n",
            " 7   Age                       768 non-null    object\n",
            " 8   Outcome                   768 non-null    object\n",
            "dtypes: object(9)\n",
            "memory usage: 54.1+ KB\n"
          ]
        }
      ]
    },
    {
      "cell_type": "code",
      "metadata": {
        "colab": {
          "base_uri": "https://localhost:8080/"
        },
        "id": "oku29RlKrUtN",
        "outputId": "5e4db7b3-c8ee-48cf-b133-554afec0472f"
      },
      "source": [
        "df.columns"
      ],
      "execution_count": 37,
      "outputs": [
        {
          "output_type": "execute_result",
          "data": {
            "text/plain": [
              "Index(['Pregnancies', 'Glucose', 'BloodPressure', 'SkinThickness', 'Insulin',\n",
              "       'BMI', 'DiabetesPedigreeFunction', 'Age', 'Outcome'],\n",
              "      dtype='object')"
            ]
          },
          "metadata": {},
          "execution_count": 37
        }
      ]
    },
    {
      "cell_type": "code",
      "metadata": {
        "colab": {
          "base_uri": "https://localhost:8080/"
        },
        "id": "Qf-JYIOKrWKn",
        "outputId": "d6f728e8-3bef-4b2f-f6ca-4bc3773f3edb"
      },
      "source": [
        "df.shape"
      ],
      "execution_count": 38,
      "outputs": [
        {
          "output_type": "execute_result",
          "data": {
            "text/plain": [
              "(768, 9)"
            ]
          },
          "metadata": {},
          "execution_count": 38
        }
      ]
    },
    {
      "cell_type": "code",
      "metadata": {
        "colab": {
          "base_uri": "https://localhost:8080/"
        },
        "id": "4lWOYX1PrX-v",
        "outputId": "e50a04d7-68e9-4ca8-c6ff-5a86db3b1d02"
      },
      "source": [
        "df.isnull().sum()"
      ],
      "execution_count": 39,
      "outputs": [
        {
          "output_type": "execute_result",
          "data": {
            "text/plain": [
              "Pregnancies                 0\n",
              "Glucose                     0\n",
              "BloodPressure               0\n",
              "SkinThickness               0\n",
              "Insulin                     0\n",
              "BMI                         0\n",
              "DiabetesPedigreeFunction    0\n",
              "Age                         0\n",
              "Outcome                     0\n",
              "dtype: int64"
            ]
          },
          "metadata": {},
          "execution_count": 39
        }
      ]
    },
    {
      "cell_type": "code",
      "metadata": {
        "id": "xCsSqueZrcGH"
      },
      "source": [
        "# x is features\n",
        "X = df.drop(['Outcome'], axis=1)\n",
        "#y = class\n",
        "y = df['Outcome']"
      ],
      "execution_count": 40,
      "outputs": []
    },
    {
      "cell_type": "code",
      "metadata": {
        "id": "JGw_IG94rrr6"
      },
      "source": [
        "from sklearn.model_selection import train_test_split\n",
        "X_train, X_test, y_train, y_test = train_test_split(X, y, test_size = 0.3, random_state = 1)"
      ],
      "execution_count": 41,
      "outputs": []
    },
    {
      "cell_type": "code",
      "metadata": {
        "colab": {
          "base_uri": "https://localhost:8080/"
        },
        "id": "Zim_6uFZsR6A",
        "outputId": "2b1b9dc4-4aff-4cd6-984b-097f2bce9a94"
      },
      "source": [
        "clfRf = RandomForestClassifier(n_estimators=10)\n",
        "clfRf = clfRf.fit(X_train, y_train)\n",
        "clfRf.score(X_test, y_test)"
      ],
      "execution_count": 42,
      "outputs": [
        {
          "output_type": "execute_result",
          "data": {
            "text/plain": [
              "0.8138528138528138"
            ]
          },
          "metadata": {},
          "execution_count": 42
        }
      ]
    },
    {
      "cell_type": "code",
      "metadata": {
        "colab": {
          "base_uri": "https://localhost:8080/"
        },
        "id": "0PrCo4IIsfUP",
        "outputId": "4b4822bc-939b-4de5-b5c8-b991d1a90799"
      },
      "source": [
        "y_predict_RF = clfRf.predict(X_test)\n",
        "from sklearn.metrics import accuracy_score\n",
        "print('MOdel accuracy score: {0:0.4f}'. format(accuracy_score(y_test, y_predict_RF)))"
      ],
      "execution_count": 43,
      "outputs": [
        {
          "output_type": "stream",
          "name": "stdout",
          "text": [
            "MOdel accuracy score: 0.8139\n"
          ]
        }
      ]
    },
    {
      "cell_type": "code",
      "metadata": {
        "colab": {
          "base_uri": "https://localhost:8080/"
        },
        "id": "8-yfM_lUtDu0",
        "outputId": "1c862aa1-36e4-4b95-b365-29415b9e7d8e"
      },
      "source": [
        "clfDf = DecisionTreeClassifier(max_depth=None, min_samples_split=2, random_state=0)\n",
        "clfDf = clfDf.fit(X_train, y_train)\n",
        "scores = cross_val_score(clfDf, X_train, y_train, cv=5)\n",
        "scores.mean()"
      ],
      "execution_count": 44,
      "outputs": [
        {
          "output_type": "execute_result",
          "data": {
            "text/plain": [
              "0.6666147455867082"
            ]
          },
          "metadata": {},
          "execution_count": 44
        }
      ]
    },
    {
      "cell_type": "code",
      "metadata": {
        "colab": {
          "base_uri": "https://localhost:8080/"
        },
        "id": "beVJzOtvtiLV",
        "outputId": "3914b557-68bf-4665-c76e-c1a34d7d8a8d"
      },
      "source": [
        "y_predict_DF = clfDf.predict(X_test)\n",
        "print('Model Accuracy score: {0:0.4f}'. format(accuracy_score(y_test, y_predict_DF)))"
      ],
      "execution_count": 45,
      "outputs": [
        {
          "output_type": "stream",
          "name": "stdout",
          "text": [
            "Model Accuracy score: 0.6926\n"
          ]
        }
      ]
    },
    {
      "cell_type": "code",
      "metadata": {
        "colab": {
          "base_uri": "https://localhost:8080/"
        },
        "id": "TGosX7nrt3gR",
        "outputId": "ddf3f583-e13e-4672-98bc-409cd879228d"
      },
      "source": [
        "clfET = ExtraTreesClassifier(n_estimators=10, max_depth=None, min_samples_split=2, random_state=0)\n",
        "clfET = clfET.fit(X_train, y_train)\n",
        "scores = cross_val_score(clfET, X_train, y_train, cv=5)\n",
        "scores.mean()"
      ],
      "execution_count": 46,
      "outputs": [
        {
          "output_type": "execute_result",
          "data": {
            "text/plain": [
              "0.7021633783316027"
            ]
          },
          "metadata": {},
          "execution_count": 46
        }
      ]
    },
    {
      "cell_type": "code",
      "metadata": {
        "colab": {
          "base_uri": "https://localhost:8080/"
        },
        "id": "CN_NV9EruPjP",
        "outputId": "7770dca1-7000-40e4-de99-4ea491067995"
      },
      "source": [
        "y_predict_ET = clfET.predict(X_test)\n",
        "print('Model Accuracy score: {0:0.4f}'. format(accuracy_score(y_test, y_predict_ET)))"
      ],
      "execution_count": 47,
      "outputs": [
        {
          "output_type": "stream",
          "name": "stdout",
          "text": [
            "Model Accuracy score: 0.7273\n"
          ]
        }
      ]
    },
    {
      "cell_type": "code",
      "metadata": {
        "colab": {
          "base_uri": "https://localhost:8080/"
        },
        "id": "nJk8crD7uTK8",
        "outputId": "cefff4a9-4ea7-4e6f-f5ff-a21217877b19"
      },
      "source": [
        "from sklearn.ensemble import AdaBoostClassifier\n",
        "clfAB = AdaBoostClassifier(n_estimators=100)\n",
        "clfAB = clfAB.fit(X_train, y_train)\n",
        "clfAB.score(X_test, y_test)"
      ],
      "execution_count": 48,
      "outputs": [
        {
          "output_type": "execute_result",
          "data": {
            "text/plain": [
              "0.7965367965367965"
            ]
          },
          "metadata": {},
          "execution_count": 48
        }
      ]
    },
    {
      "cell_type": "code",
      "metadata": {
        "colab": {
          "base_uri": "https://localhost:8080/"
        },
        "id": "wfcN833zuqcZ",
        "outputId": "5e75d895-fcde-43eb-b30d-deba68cb42cb"
      },
      "source": [
        "y_predict_AB = clfAB.predict(X_test)\n",
        "print('Model Accuracy score: {0:0.4f}'. format(accuracy_score(y_test, y_predict_AB)))"
      ],
      "execution_count": 49,
      "outputs": [
        {
          "output_type": "stream",
          "name": "stdout",
          "text": [
            "Model Accuracy score: 0.7965\n"
          ]
        }
      ]
    },
    {
      "cell_type": "code",
      "metadata": {
        "colab": {
          "base_uri": "https://localhost:8080/"
        },
        "id": "ROuVyb5Ou3dA",
        "outputId": "a7899a13-1c8b-49f6-874d-2fd20964fbaa"
      },
      "source": [
        "from sklearn.ensemble import GradientBoostingClassifier\n",
        "clfGB = GradientBoostingClassifier(n_estimators=100, learning_rate=1.0, max_depth=1, random_state=0)\n",
        "clfGB = clfGB.fit(X_train, y_train)\n",
        "clfGB.score(X_test, y_test)"
      ],
      "execution_count": 50,
      "outputs": [
        {
          "output_type": "execute_result",
          "data": {
            "text/plain": [
              "0.7922077922077922"
            ]
          },
          "metadata": {},
          "execution_count": 50
        }
      ]
    },
    {
      "cell_type": "code",
      "metadata": {
        "colab": {
          "base_uri": "https://localhost:8080/"
        },
        "id": "72r19cfsvNPE",
        "outputId": "2579394c-a2cd-4e29-f45e-4d2579dabbc1"
      },
      "source": [
        "y_predict_GB = clfGB.predict(X_test)\n",
        "print('Model Accuracy score: {0:0.4f}'. format(accuracy_score(y_test, y_predict_GB)))"
      ],
      "execution_count": 51,
      "outputs": [
        {
          "output_type": "stream",
          "name": "stdout",
          "text": [
            "Model Accuracy score: 0.7922\n"
          ]
        }
      ]
    },
    {
      "cell_type": "code",
      "metadata": {
        "colab": {
          "base_uri": "https://localhost:8080/"
        },
        "id": "v0K-5m1nvWjy",
        "outputId": "2b09cd79-064a-420e-d075-ca8000e1e7ba"
      },
      "source": [
        "from sklearn.ensemble import BaggingClassifier\n",
        "from sklearn.neighbors import KNeighborsClassifier\n",
        "bagging = BaggingClassifier(KNeighborsClassifier(), max_samples=0.5, max_features=0.5)\n",
        "bagging.fit(X_train, y_train)\n",
        "y_test_bagging = bagging.predict(X_test)\n",
        "print('Model Accuracy score: {0:0.4f}'. format(accuracy_score(y_test, y_test_bagging)))"
      ],
      "execution_count": 52,
      "outputs": [
        {
          "output_type": "stream",
          "name": "stdout",
          "text": [
            "Model Accuracy score: 0.7835\n"
          ]
        }
      ]
    },
    {
      "cell_type": "code",
      "metadata": {
        "colab": {
          "base_uri": "https://localhost:8080/"
        },
        "id": "UVegTBmSwGIO",
        "outputId": "8d74daa9-0ac0-4683-c88d-0e37ded9a59d"
      },
      "source": [
        "from sklearn.ensemble import BaggingClassifier\n",
        "bagging = BaggingClassifier(AdaBoostClassifier(), max_samples=0.5, max_features=0.5)\n",
        "bagging.fit(X_train, y_train)\n",
        "y_test_bagging = bagging.predict(X_test)\n",
        "print('Model Accuracy score: {0:0.4f}'. format(accuracy_score(y_test, y_test_bagging)))"
      ],
      "execution_count": 53,
      "outputs": [
        {
          "output_type": "stream",
          "name": "stdout",
          "text": [
            "Model Accuracy score: 0.7662\n"
          ]
        }
      ]
    },
    {
      "cell_type": "markdown",
      "metadata": {
        "id": "P-316aKGws3K"
      },
      "source": [
        "Bandingkan akurasi hasil prediksi dari beberapa classifier yang digunakan!"
      ]
    },
    {
      "cell_type": "code",
      "metadata": {
        "colab": {
          "base_uri": "https://localhost:8080/"
        },
        "id": "d4FRzqlzxWyJ",
        "outputId": "811f5d27-130a-4e5d-aeb6-bb072fbc67f9"
      },
      "source": [
        "print('Model RF accuracy score: {0:0.4f}'. format(accuracy_score(y_test, y_predict_RF)))\n",
        "print('Model DF Accuracy score: {0:0.4f}'. format(accuracy_score(y_test, y_predict_DF)))\n",
        "print('Model ET Accuracy score: {0:0.4f}'. format(accuracy_score(y_test, y_predict_ET)))\n",
        "print('Model AB Accuracy score: {0:0.4f}'. format(accuracy_score(y_test, y_predict_AB)))\n",
        "print('Model GB Accuracy score: {0:0.4f}'. format(accuracy_score(y_test, y_predict_GB)))\n",
        "print('Model KNN Bagging Accuracy score: {0:0.4f}'. format(accuracy_score(y_test, y_test_bagging)))\n",
        "print('Model AB Bagging Accuracy score: {0:0.4f}'. format(accuracy_score(y_test, y_test_bagging)))"
      ],
      "execution_count": 54,
      "outputs": [
        {
          "output_type": "stream",
          "name": "stdout",
          "text": [
            "Model RF accuracy score: 0.8139\n",
            "Model DF Accuracy score: 0.6926\n",
            "Model ET Accuracy score: 0.7273\n",
            "Model AB Accuracy score: 0.7965\n",
            "Model GB Accuracy score: 0.7922\n",
            "Model KNN Bagging Accuracy score: 0.7662\n",
            "Model AB Bagging Accuracy score: 0.7662\n"
          ]
        }
      ]
    },
    {
      "cell_type": "markdown",
      "metadata": {
        "id": "dlF5XAnlwzVx"
      },
      "source": [
        "Manakah classifier yang memperoleh akurasi tertinggi?"
      ]
    },
    {
      "cell_type": "markdown",
      "metadata": {
        "id": "QJ3XdfEwxiXo"
      },
      "source": [
        "Classifier dengan akurasi tertinggi adalah RandomForest"
      ]
    }
  ]
}