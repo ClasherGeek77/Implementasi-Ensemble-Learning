{
  "nbformat": 4,
  "nbformat_minor": 0,
  "metadata": {
    "colab": {
      "name": "535180014_ensemble2.ipynb",
      "provenance": []
    },
    "kernelspec": {
      "name": "python3",
      "display_name": "Python 3"
    },
    "language_info": {
      "name": "python"
    }
  },
  "cells": [
    {
      "cell_type": "code",
      "metadata": {
        "id": "YhmFoffpmg6J"
      },
      "source": [
        "from sklearn.model_selection import cross_val_score\n",
        "from sklearn.datasets import make_blobs\n",
        "from sklearn.ensemble import RandomForestClassifier\n",
        "from sklearn.ensemble import ExtraTreesClassifier\n",
        "from sklearn.tree import DecisionTreeClassifier"
      ],
      "execution_count": 70,
      "outputs": []
    },
    {
      "cell_type": "code",
      "metadata": {
        "colab": {
          "base_uri": "https://localhost:8080/",
          "height": 287
        },
        "id": "XHqdG5WEpmul",
        "outputId": "a28a493d-c164-4e0b-e5a4-b9daccd198e2"
      },
      "source": [
        "import pandas as pd\n",
        "df = pd.read_csv(\"https://raw.githubusercontent.com/ClasherGeek77/ml-csv/main/income_evaluation.csv\", header=None)\n",
        "df = df.iloc[1:, :]\n",
        "col_names = ['age', 'workclass', 'fnlwgt', 'education', 'education-num',\n",
        "       'marital-status', 'occupation', 'relationship', 'race', 'sex',\n",
        "       'capital-gain', 'capital-loss', 'hours-per-week', 'native-country',\n",
        "       'income']\n",
        "df.columns = col_names\n",
        "col_names\n",
        "df.head()"
      ],
      "execution_count": 71,
      "outputs": [
        {
          "output_type": "execute_result",
          "data": {
            "text/html": [
              "<div>\n",
              "<style scoped>\n",
              "    .dataframe tbody tr th:only-of-type {\n",
              "        vertical-align: middle;\n",
              "    }\n",
              "\n",
              "    .dataframe tbody tr th {\n",
              "        vertical-align: top;\n",
              "    }\n",
              "\n",
              "    .dataframe thead th {\n",
              "        text-align: right;\n",
              "    }\n",
              "</style>\n",
              "<table border=\"1\" class=\"dataframe\">\n",
              "  <thead>\n",
              "    <tr style=\"text-align: right;\">\n",
              "      <th></th>\n",
              "      <th>age</th>\n",
              "      <th>workclass</th>\n",
              "      <th>fnlwgt</th>\n",
              "      <th>education</th>\n",
              "      <th>education-num</th>\n",
              "      <th>marital-status</th>\n",
              "      <th>occupation</th>\n",
              "      <th>relationship</th>\n",
              "      <th>race</th>\n",
              "      <th>sex</th>\n",
              "      <th>capital-gain</th>\n",
              "      <th>capital-loss</th>\n",
              "      <th>hours-per-week</th>\n",
              "      <th>native-country</th>\n",
              "      <th>income</th>\n",
              "    </tr>\n",
              "  </thead>\n",
              "  <tbody>\n",
              "    <tr>\n",
              "      <th>1</th>\n",
              "      <td>39</td>\n",
              "      <td>State-gov</td>\n",
              "      <td>77516</td>\n",
              "      <td>Bachelors</td>\n",
              "      <td>13</td>\n",
              "      <td>Never-married</td>\n",
              "      <td>Adm-clerical</td>\n",
              "      <td>Not-in-family</td>\n",
              "      <td>White</td>\n",
              "      <td>Male</td>\n",
              "      <td>2174</td>\n",
              "      <td>0</td>\n",
              "      <td>40</td>\n",
              "      <td>United-States</td>\n",
              "      <td>&lt;=50K</td>\n",
              "    </tr>\n",
              "    <tr>\n",
              "      <th>2</th>\n",
              "      <td>50</td>\n",
              "      <td>Self-emp-not-inc</td>\n",
              "      <td>83311</td>\n",
              "      <td>Bachelors</td>\n",
              "      <td>13</td>\n",
              "      <td>Married-civ-spouse</td>\n",
              "      <td>Exec-managerial</td>\n",
              "      <td>Husband</td>\n",
              "      <td>White</td>\n",
              "      <td>Male</td>\n",
              "      <td>0</td>\n",
              "      <td>0</td>\n",
              "      <td>13</td>\n",
              "      <td>United-States</td>\n",
              "      <td>&lt;=50K</td>\n",
              "    </tr>\n",
              "    <tr>\n",
              "      <th>3</th>\n",
              "      <td>38</td>\n",
              "      <td>Private</td>\n",
              "      <td>215646</td>\n",
              "      <td>HS-grad</td>\n",
              "      <td>9</td>\n",
              "      <td>Divorced</td>\n",
              "      <td>Handlers-cleaners</td>\n",
              "      <td>Not-in-family</td>\n",
              "      <td>White</td>\n",
              "      <td>Male</td>\n",
              "      <td>0</td>\n",
              "      <td>0</td>\n",
              "      <td>40</td>\n",
              "      <td>United-States</td>\n",
              "      <td>&lt;=50K</td>\n",
              "    </tr>\n",
              "    <tr>\n",
              "      <th>4</th>\n",
              "      <td>53</td>\n",
              "      <td>Private</td>\n",
              "      <td>234721</td>\n",
              "      <td>11th</td>\n",
              "      <td>7</td>\n",
              "      <td>Married-civ-spouse</td>\n",
              "      <td>Handlers-cleaners</td>\n",
              "      <td>Husband</td>\n",
              "      <td>Black</td>\n",
              "      <td>Male</td>\n",
              "      <td>0</td>\n",
              "      <td>0</td>\n",
              "      <td>40</td>\n",
              "      <td>United-States</td>\n",
              "      <td>&lt;=50K</td>\n",
              "    </tr>\n",
              "    <tr>\n",
              "      <th>5</th>\n",
              "      <td>28</td>\n",
              "      <td>Private</td>\n",
              "      <td>338409</td>\n",
              "      <td>Bachelors</td>\n",
              "      <td>13</td>\n",
              "      <td>Married-civ-spouse</td>\n",
              "      <td>Prof-specialty</td>\n",
              "      <td>Wife</td>\n",
              "      <td>Black</td>\n",
              "      <td>Female</td>\n",
              "      <td>0</td>\n",
              "      <td>0</td>\n",
              "      <td>40</td>\n",
              "      <td>Cuba</td>\n",
              "      <td>&lt;=50K</td>\n",
              "    </tr>\n",
              "  </tbody>\n",
              "</table>\n",
              "</div>"
            ],
            "text/plain": [
              "  age          workclass  fnlwgt  ... hours-per-week  native-country  income\n",
              "1  39          State-gov   77516  ...             40   United-States   <=50K\n",
              "2  50   Self-emp-not-inc   83311  ...             13   United-States   <=50K\n",
              "3  38            Private  215646  ...             40   United-States   <=50K\n",
              "4  53            Private  234721  ...             40   United-States   <=50K\n",
              "5  28            Private  338409  ...             40            Cuba   <=50K\n",
              "\n",
              "[5 rows x 15 columns]"
            ]
          },
          "metadata": {},
          "execution_count": 71
        }
      ]
    },
    {
      "cell_type": "code",
      "metadata": {
        "colab": {
          "base_uri": "https://localhost:8080/"
        },
        "id": "AvsdCN_xrRAM",
        "outputId": "2ef010da-e5a2-4e18-8464-faf1cf5f0095"
      },
      "source": [
        "df.info()"
      ],
      "execution_count": 72,
      "outputs": [
        {
          "output_type": "stream",
          "name": "stdout",
          "text": [
            "<class 'pandas.core.frame.DataFrame'>\n",
            "RangeIndex: 32561 entries, 1 to 32561\n",
            "Data columns (total 15 columns):\n",
            " #   Column          Non-Null Count  Dtype \n",
            "---  ------          --------------  ----- \n",
            " 0   age             32561 non-null  object\n",
            " 1   workclass       32561 non-null  object\n",
            " 2   fnlwgt          32561 non-null  object\n",
            " 3   education       32561 non-null  object\n",
            " 4   education-num   32561 non-null  object\n",
            " 5   marital-status  32561 non-null  object\n",
            " 6   occupation      32561 non-null  object\n",
            " 7   relationship    32561 non-null  object\n",
            " 8   race            32561 non-null  object\n",
            " 9   sex             32561 non-null  object\n",
            " 10  capital-gain    32561 non-null  object\n",
            " 11  capital-loss    32561 non-null  object\n",
            " 12  hours-per-week  32561 non-null  object\n",
            " 13  native-country  32561 non-null  object\n",
            " 14  income          32561 non-null  object\n",
            "dtypes: object(15)\n",
            "memory usage: 3.7+ MB\n"
          ]
        }
      ]
    },
    {
      "cell_type": "code",
      "metadata": {
        "colab": {
          "base_uri": "https://localhost:8080/"
        },
        "id": "oku29RlKrUtN",
        "outputId": "631fb370-2002-47e3-84d1-74adbd17cff9"
      },
      "source": [
        "df.columns"
      ],
      "execution_count": 73,
      "outputs": [
        {
          "output_type": "execute_result",
          "data": {
            "text/plain": [
              "Index(['age', 'workclass', 'fnlwgt', 'education', 'education-num',\n",
              "       'marital-status', 'occupation', 'relationship', 'race', 'sex',\n",
              "       'capital-gain', 'capital-loss', 'hours-per-week', 'native-country',\n",
              "       'income'],\n",
              "      dtype='object')"
            ]
          },
          "metadata": {},
          "execution_count": 73
        }
      ]
    },
    {
      "cell_type": "code",
      "metadata": {
        "colab": {
          "base_uri": "https://localhost:8080/"
        },
        "id": "Qf-JYIOKrWKn",
        "outputId": "9e5edd31-34ab-49d8-ad2d-1ac1471e0d4e"
      },
      "source": [
        "df.shape"
      ],
      "execution_count": 74,
      "outputs": [
        {
          "output_type": "execute_result",
          "data": {
            "text/plain": [
              "(32561, 15)"
            ]
          },
          "metadata": {},
          "execution_count": 74
        }
      ]
    },
    {
      "cell_type": "markdown",
      "metadata": {
        "id": "wflaidBjdWTW"
      },
      "source": [
        "memeriksa adanya missing values"
      ]
    },
    {
      "cell_type": "code",
      "metadata": {
        "colab": {
          "base_uri": "https://localhost:8080/"
        },
        "id": "4lWOYX1PrX-v",
        "outputId": "d4b78d3c-ec27-4784-9b90-04fdfc811acf"
      },
      "source": [
        "df.isnull().sum()"
      ],
      "execution_count": 75,
      "outputs": [
        {
          "output_type": "execute_result",
          "data": {
            "text/plain": [
              "age               0\n",
              "workclass         0\n",
              "fnlwgt            0\n",
              "education         0\n",
              "education-num     0\n",
              "marital-status    0\n",
              "occupation        0\n",
              "relationship      0\n",
              "race              0\n",
              "sex               0\n",
              "capital-gain      0\n",
              "capital-loss      0\n",
              "hours-per-week    0\n",
              "native-country    0\n",
              "income            0\n",
              "dtype: int64"
            ]
          },
          "metadata": {},
          "execution_count": 75
        }
      ]
    },
    {
      "cell_type": "markdown",
      "metadata": {
        "id": "iXij04WSdSb3"
      },
      "source": [
        "menentukan fitur dan kelas"
      ]
    },
    {
      "cell_type": "code",
      "metadata": {
        "id": "xCsSqueZrcGH"
      },
      "source": [
        "# x is features\n",
        "X = df.drop(['income'], axis=1)\n",
        "#y = class\n",
        "y = df['income']"
      ],
      "execution_count": 76,
      "outputs": []
    },
    {
      "cell_type": "code",
      "metadata": {
        "id": "JGw_IG94rrr6"
      },
      "source": [
        "from sklearn.model_selection import train_test_split\n",
        "X_train, X_test, y_train, y_test = train_test_split(X, y, test_size = 0.3, random_state = 1)"
      ],
      "execution_count": 77,
      "outputs": []
    },
    {
      "cell_type": "code",
      "metadata": {
        "colab": {
          "base_uri": "https://localhost:8080/"
        },
        "id": "9iiRy74fcMa8",
        "outputId": "2700ce38-39c7-4518-ece9-4e0d9592273f"
      },
      "source": [
        "import category_encoders as ce\n",
        "encoder = ce.OrdinalEncoder(cols=['age', 'workclass', 'fnlwgt', 'education', 'education-num',\n",
        "       'marital-status', 'occupation', 'relationship', 'race', 'sex',\n",
        "       'capital-gain', 'capital-loss', 'hours-per-week', 'native-country'])\n",
        "\n",
        "X_train = encoder.fit_transform(X_train)\n",
        "\n",
        "X_test = encoder.transform(X_test)"
      ],
      "execution_count": 78,
      "outputs": [
        {
          "output_type": "stream",
          "name": "stderr",
          "text": [
            "/usr/local/lib/python3.7/dist-packages/category_encoders/utils.py:21: FutureWarning: is_categorical is deprecated and will be removed in a future version.  Use is_categorical_dtype instead\n",
            "  elif pd.api.types.is_categorical(cols):\n"
          ]
        }
      ]
    },
    {
      "cell_type": "markdown",
      "metadata": {
        "id": "K1JUXUsJdgbw"
      },
      "source": [
        "Bagi data menjadi data latih dan data uji\n",
        "\n",
        "Pilih 3 classifier dari ensemble method\n",
        "\n",
        "Implementasikan k-fold cross validation\n",
        "\n",
        "Lakukan training menggunakan data latih dan hitung akurasinya\n",
        "\n",
        "Lakukan prediksi meggunakan data uji kemudian hitung akurasinya"
      ]
    },
    {
      "cell_type": "code",
      "metadata": {
        "colab": {
          "base_uri": "https://localhost:8080/"
        },
        "id": "Zim_6uFZsR6A",
        "outputId": "ce96ab51-3b6e-4870-bfdf-d3a778a13d00"
      },
      "source": [
        "from sklearn.metrics import accuracy_score\n",
        "clfRf = RandomForestClassifier(n_estimators=10)\n",
        "clfRf = clfRf.fit(X_train, y_train)\n",
        "y_predict_RF = clfRf.predict(X_test)\n",
        "scores = cross_val_score(clfRf, X_train, y_train, cv=5)\n",
        "print('Model Training accuracy score: {0:0.4f}'. format(clfRf.score(X_train, y_train)))\n",
        "print('Model CV accuracy score: {0:0.4f}'. format(scores.mean()))\n",
        "print('Model Predict accuracy score: {0:0.4f}'. format(accuracy_score(y_test, y_predict_RF)))"
      ],
      "execution_count": 79,
      "outputs": [
        {
          "output_type": "stream",
          "name": "stdout",
          "text": [
            "Model Training accuracy score: 0.9857\n",
            "Model CV accuracy score: 0.8226\n",
            "Model Predict accuracy score: 0.8338\n"
          ]
        }
      ]
    },
    {
      "cell_type": "code",
      "metadata": {
        "colab": {
          "base_uri": "https://localhost:8080/"
        },
        "id": "TGosX7nrt3gR",
        "outputId": "564dbf3a-2a35-4cef-a008-9164dd80af49"
      },
      "source": [
        "clfET = ExtraTreesClassifier(n_estimators=10, max_depth=None, min_samples_split=2, random_state=0)\n",
        "clfET = clfET.fit(X_train, y_train)\n",
        "scores = cross_val_score(clfET, X_train, y_train, cv=5)\n",
        "y_predict_ET = clfET.predict(X_test)\n",
        "print('Model Training accuracy score: {0:0.4f}'. format(clfET.score(X_train, y_train)))\n",
        "print('Model CV accuracy score: {0:0.4f}'. format(scores.mean()))\n",
        "print('Model Accuracy score: {0:0.4f}'. format(accuracy_score(y_test, y_predict_ET)))"
      ],
      "execution_count": 80,
      "outputs": [
        {
          "output_type": "stream",
          "name": "stdout",
          "text": [
            "Model Training accuracy score: 1.0000\n",
            "Model CV accuracy score: 0.8228\n",
            "Model Accuracy score: 0.8253\n"
          ]
        }
      ]
    },
    {
      "cell_type": "code",
      "metadata": {
        "colab": {
          "base_uri": "https://localhost:8080/"
        },
        "id": "nJk8crD7uTK8",
        "outputId": "2a353cac-08e4-43fe-d7b5-fba35a4df92b"
      },
      "source": [
        "from sklearn.ensemble import AdaBoostClassifier\n",
        "clfAB = AdaBoostClassifier(n_estimators=100)\n",
        "clfAB = clfAB.fit(X_train, y_train)\n",
        "scores = cross_val_score(clfAB, X_train, y_train, cv=5)\n",
        "y_predict_AB = clfAB.predict(X_test)\n",
        "print('Model Training accuracy score: {0:0.4f}'. format(clfAB.score(X_train, y_train)))\n",
        "print('Model CV accuracy score: {0:0.4f}'. format(scores.mean()))\n",
        "print('Model Accuracy score: {0:0.4f}'. format(accuracy_score(y_test, y_predict_AB)))"
      ],
      "execution_count": 81,
      "outputs": [
        {
          "output_type": "stream",
          "name": "stdout",
          "text": [
            "Model Training accuracy score: 0.8478\n",
            "Model CV accuracy score: 0.7986\n",
            "Model Accuracy score: 0.8193\n"
          ]
        }
      ]
    },
    {
      "cell_type": "markdown",
      "metadata": {
        "id": "P-316aKGws3K"
      },
      "source": [
        "Bandingkan akurasi hasil prediksi dari 3 classifier yang digunakan!"
      ]
    },
    {
      "cell_type": "code",
      "metadata": {
        "colab": {
          "base_uri": "https://localhost:8080/"
        },
        "id": "d4FRzqlzxWyJ",
        "outputId": "70062f21-fa83-41a6-aa9b-ce0c48c28819"
      },
      "source": [
        "print('Model RF accuracy score: {0:0.4f}'. format(accuracy_score(y_test, y_predict_RF)))\n",
        "print('Model ET Accuracy score: {0:0.4f}'. format(accuracy_score(y_test, y_predict_ET)))\n",
        "print('Model AB Accuracy score: {0:0.4f}'. format(accuracy_score(y_test, y_predict_AB)))"
      ],
      "execution_count": 82,
      "outputs": [
        {
          "output_type": "stream",
          "name": "stdout",
          "text": [
            "Model RF accuracy score: 0.8338\n",
            "Model ET Accuracy score: 0.8253\n",
            "Model AB Accuracy score: 0.8193\n"
          ]
        }
      ]
    },
    {
      "cell_type": "markdown",
      "metadata": {
        "id": "dlF5XAnlwzVx"
      },
      "source": [
        "Manakah classifier yang memperoleh akurasi tertinggi?"
      ]
    },
    {
      "cell_type": "markdown",
      "metadata": {
        "id": "QJ3XdfEwxiXo"
      },
      "source": [
        "Classifier dengan akurasi tertinggi adalah RandomForest"
      ]
    }
  ]
}